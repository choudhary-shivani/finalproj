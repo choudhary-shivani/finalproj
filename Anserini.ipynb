{
 "cells": [
  {
   "cell_type": "code",
   "execution_count": 46,
   "metadata": {},
   "outputs": [],
   "source": [
    "# %%capture\n",
    "# !pip install pyserini==0.10.0.1\n",
    "\n",
    "import os\n",
    "import numpy as np\n",
    "os.environ[\"JAVA_HOME\"] = \"/usr/lib/jvm/java-11-openjdk-amd64\""
   ]
  },
  {
   "cell_type": "code",
   "execution_count": 2,
   "metadata": {},
   "outputs": [
    {
     "name": "stdout",
     "output_type": "stream",
     "text": [
      "6980 queries total\n"
     ]
    }
   ],
   "source": [
    "from pyserini.search import get_topics\n",
    "\n",
    "topics = get_topics('msmarco_passage_dev_subset')\n",
    "print(f'{len(topics)} queries total')"
   ]
  },
  {
   "cell_type": "code",
   "execution_count": 3,
   "metadata": {},
   "outputs": [
    {
     "data": {
      "text/plain": [
       "'why do bears hibernate'"
      ]
     },
     "execution_count": 3,
     "metadata": {},
     "output_type": "execute_result"
    }
   ],
   "source": [
    "topics[1102400]['title']"
   ]
  },
  {
   "cell_type": "code",
   "execution_count": 4,
   "metadata": {},
   "outputs": [
    {
     "name": "stdout",
     "output_type": "stream",
     "text": [
      "Attempting to initialize pre-built index /home/shivani/Downloads/index-cast2019.tar.gz/index-cast2019.\n",
      "Unrecognized index name /home/shivani/Downloads/index-cast2019.tar.gz/index-cast2019\n",
      "Initializing /home/shivani/Downloads/index-cast2019.tar.gz/index-cast2019...\n"
     ]
    }
   ],
   "source": [
    "from pyserini.search import SimpleSearcher\n",
    "\n",
    "searcher = SimpleSearcher.from_prebuilt_index('/home/shivani/Downloads/index-cast2019.tar.gz/index-cast2019')"
   ]
  },
  {
   "cell_type": "code",
   "execution_count": 5,
   "metadata": {},
   "outputs": [
    {
     "ename": "TypeError",
     "evalue": "from_prebuilt_index() missing 1 required positional argument: 'prebuilt_index_name'",
     "output_type": "error",
     "traceback": [
      "\u001b[0;31m---------------------------------------------------------------------------\u001b[0m",
      "\u001b[0;31mTypeError\u001b[0m                                 Traceback (most recent call last)",
      "\u001b[0;32m<ipython-input-5-3b9fb10f3164>\u001b[0m in \u001b[0;36m<module>\u001b[0;34m\u001b[0m\n\u001b[0;32m----> 1\u001b[0;31m \u001b[0mSimpleSearcher\u001b[0m\u001b[0;34m.\u001b[0m\u001b[0mfrom_prebuilt_index\u001b[0m\u001b[0;34m(\u001b[0m\u001b[0;34m)\u001b[0m\u001b[0;34m\u001b[0m\u001b[0;34m\u001b[0m\u001b[0m\n\u001b[0m",
      "\u001b[0;31mTypeError\u001b[0m: from_prebuilt_index() missing 1 required positional argument: 'prebuilt_index_name'"
     ]
    }
   ],
   "source": [
    "SimpleSearcher.from_prebuilt_index()"
   ]
  },
  {
   "cell_type": "code",
   "execution_count": 6,
   "metadata": {},
   "outputs": [
    {
     "name": "stdout",
     "output_type": "stream",
     "text": [
      " 1 14.58490 The #1 reason why people fall out of love is because they're human. Yes. We are ..., MARCO_3862237\n",
      " 2 13.60040 Of course, there are numerous reasons why people break up, but they are not alwa..., MARCO_3862236\n",
      " 3 13.50850 The #1 reason why people fall out of love is because they're human. Yes. We are ..., MARCO_1828466\n",
      " 4 12.92740 Conclusion. The knowledge of the 3 reasons why people can fall out of love can b..., MARCO_3862239\n",
      " 5 12.86610 \"I Love My Life\" was written by Lukas Bellesini, Jayson DeZuzio, Wolfgang Gartne..., CAR_a9cc9dbb4a421ab9e3f2e63526698de267f30ffc\n",
      " 6 12.77540 Two soundtrack albums were released for Why Do Fools Fall in Love by Warner Musi..., MARCO_7974192\n",
      " 7 12.69900 Why do we love? Why do we hate. Why, why, why? Well, these are the questions and..., MARCO_7903322\n",
      " 8 12.68660 Lymon's music and story were re-introduced to modern audiences with Why Do Fools..., CAR_31c7c8152961f9d06f9a0c7f947fbb56948f04d8\n",
      " 9 12.50680 You always hurt the one you love, the one you should not hurt at all; You always..., MARCO_546267\n",
      "10 12.48190 Also in 1996 Thompson performed background vocals for the song \"Cold Rock A Part..., CAR_8a19647b73fce3e09ad00a513aa0164e6dded05b\n"
     ]
    }
   ],
   "source": [
    "import json\n",
    "\n",
    "hits = searcher.search('why do we fall in love?')\n",
    "\n",
    "# Prints the first 10 hits/\n",
    "for i in range(0, 10):\n",
    "    jsondoc = hits[i].raw\n",
    "    print(f'{i+1:2} {hits[i].score:.5f} {jsondoc[:80]}..., {hits[i].docid}')"
   ]
  },
  {
   "cell_type": "code",
   "execution_count": 7,
   "metadata": {},
   "outputs": [
    {
     "data": {
      "text/plain": [
       "'Also in 1996 Thompson performed background vocals for the song \"Cold Rock A Party\" by MC Lyte featuring Missy Elliott and Puff Daddy. She also appeared on Lyte\\'s 1998 album Seven & Seven, on the track \\'It\\'s All Yours\". Later work included \"Why Do Fools Fall in Love\", a re-imagining of the 1955 Frankie Lymon & the Teenagers hit of the same name. Thompson\\'s \"Why Do Fools Fall in Love,\" featuring Missy Elliott and rapper Mocha, was featured in the 1998 Lymon biopic Why Do Fools Fall in Love and its soundtrack. The singer also appeared on Missy Elliott\\'s second album, Da Real World. By the latter part of 1998, Thompson\\'s debut was certified Platinum by the RIAA after an estimate of one million copies of the album were sold.'"
      ]
     },
     "execution_count": 7,
     "metadata": {},
     "output_type": "execute_result"
    }
   ],
   "source": [
    "hits[i].raw"
   ]
  },
  {
   "cell_type": "code",
   "execution_count": 63,
   "metadata": {},
   "outputs": [],
   "source": [
    "import json\n",
    "import string \n",
    "with open('./treccastweb/2020/2020_manual_evaluation_topics_v1.0.json') as f:\n",
    "    loaded_json = json.load(f)"
   ]
  },
  {
   "cell_type": "code",
   "execution_count": 108,
   "metadata": {},
   "outputs": [
    {
     "name": "stdout",
     "output_type": "stream",
     "text": [
      "Processing for 82\n",
      "Turn 1 -> I would like to learn about GMO Food labeling.\n",
      "\n",
      "learn like GMO labeling I about to Food would\n",
      "doc id is MARCO_1209363\n",
      "Turn 2 -> What are the pros and cons of GMO food labeling?\n",
      "\n",
      "pros the and GMO of labeling food What are cons\n",
      "doc id is MARCO_3311529\n",
      "Turn 3 -> What are the cons of GMO food labeling?\n",
      "\n",
      "the GMO of labeling food What are cons\n",
      "doc id is MARCO_3311529\n",
      "Turn 4 -> What are the GMO food labeling rules in the EU?\n",
      "\n",
      "rules the GMO labeling food What in EU are\n",
      "doc id is CAR_14e62ec6fa1fb134487c7a2ce2a490b937880bb0\n",
      "Turn 5 -> Tell me about traceability tools for GMO foods in the EU.\n",
      "\n",
      "the me tools GMO about traceability in for Tell foods EU\n",
      "doc id is CAR_ef1121e0a382dca7bffdf33a03ed9e9657fe65f4\n",
      "Turn 6 -> What is the role of Co-Extra in GMO food traceability in the EU?\n",
      "\n",
      "role is the GMO of food What in traceability CoExtra EU\n",
      "doc id is CAR_ad707e094a5475b5b0a35ab384901cb37e750c7d\n",
      "Turn 7 -> How is food tested for GMO contamination?\n",
      "\n",
      "role is rules contamination me tools GMO labeling food about What tested traceability EU for Tell foods How\n",
      "doc id is CAR_ef401a18f4f95523ee060e42b474d433f61b6cad\n",
      "Turn 8 -> What's the difference between the European Union and United States approaches to testing for GMO food contamination?\n",
      "\n",
      "Whats and the contamination GMO approaches food European Union United to for States difference between testing\n",
      "doc id is CAR_7c2fcb9edebb92e131fad5241c0630399d3a1884\n",
      "Turn 9 -> How does the DNA-based method work for testing GMO contamination.\n",
      "\n",
      "contamination GMO Union traceability States method approaches does United work for EU How between food European DNAbased role Whats the What tested difference testing\n",
      "doc id is CAR_ef1121e0a382dca7bffdf33a03ed9e9657fe65f4\n",
      "Turn 10 -> How could Co-Extra improve DNA-based testing for GMO contamination?\n",
      "\n",
      "contamination GMO Union States method approaches does United work for CoExtra How between food European DNAbased could Whats tested improve difference testing\n",
      "doc id is CAR_a823bf4e7fea397136b4b406f318414d94a110e1\n"
     ]
    }
   ],
   "source": [
    "\n",
    "r_s, r_q = 1, 1\n",
    "theta = 17\n",
    "# s.translate(str.maketrans('', '', string.punctuation))/\n",
    "for conv in loaded_json[1:2]:\n",
    "    w_s, w_q = [], []\n",
    "    print (\"Processing for {}\".format(conv['number']))\n",
    "    for idx, turn in enumerate(conv['turn']):\n",
    "        query = turn['manual_rewritten_utterance']\n",
    "        query = query.translate(str.maketrans('', '', string.punctuation))\n",
    "        w_q.append([])\n",
    "        print (\"Turn {} -> {}\".format(turn['number'], turn['manual_rewritten_utterance']))\n",
    "        for word in query.split():\n",
    "            word = word.translate(str.maketrans('', '', string.punctuation))\n",
    "            text = searcher.search(word)\n",
    "            if len(text) > 0:\n",
    "                match_score = text[0].score\n",
    "                if match_score > r_q:\n",
    "                    w_q[idx].append(word)\n",
    "                if match_score > r_s:\n",
    "                    w_s.append(word)\n",
    "        if idx>0:\n",
    "            query_res = searcher.search(query)\n",
    "            query += ' '.join(W_s)\n",
    "            if query_res[0].score < theta:\n",
    "                if idx < 3:\n",
    "                    range_ = np.arange(0, idx)\n",
    "                else:\n",
    "                    range_ = np.arange(idx-3, idx)\n",
    "\n",
    "                for item in range_:\n",
    "                    query += ' ' + ' '.join(w_q[item])\n",
    "        query = ' '.join(set(query.split()))\n",
    "        print(\"\\n{}\\ndoc id is {}\".format(query,searcher.search(query)[0].docid))               \n",
    "                    "
   ]
  },
  {
   "cell_type": "code",
   "execution_count": 87,
   "metadata": {},
   "outputs": [
    {
     "data": {
      "text/plain": [
       "(['garage',\n",
       "  'garage',\n",
       "  'garage',\n",
       "  'garage',\n",
       "  'garage',\n",
       "  'smart',\n",
       "  'garage',\n",
       "  'smart',\n",
       "  'garage',\n",
       "  'smart',\n",
       "  'garage',\n",
       "  'hacked'],\n",
       " [['know', 'garage', 'door', 'bad'],\n",
       "  ['my', 'garage', 'door', 'stopped', 'Why'],\n",
       "  ['cost', 'someone', 'repair', 'garage', 'door'],\n",
       "  ['cost', 'garage', 'door'],\n",
       "  ['choose', 'garage', 'door'],\n",
       "  ['smart', 'garage', 'door'],\n",
       "  ['me', 'know', 'safety', 'smart', 'garage', 'door'],\n",
       "  ['smart', 'garage', 'door', 'hacked']])"
      ]
     },
     "execution_count": 87,
     "metadata": {},
     "output_type": "execute_result"
    }
   ],
   "source": [
    "w_s, w_q"
   ]
  },
  {
   "cell_type": "code",
   "execution_count": null,
   "metadata": {},
   "outputs": [],
   "source": []
  }
 ],
 "metadata": {
  "kernelspec": {
   "display_name": "Python 3",
   "language": "python",
   "name": "python3"
  },
  "language_info": {
   "codemirror_mode": {
    "name": "ipython",
    "version": 3
   },
   "file_extension": ".py",
   "mimetype": "text/x-python",
   "name": "python",
   "nbconvert_exporter": "python",
   "pygments_lexer": "ipython3",
   "version": "3.8.5"
  }
 },
 "nbformat": 4,
 "nbformat_minor": 4
}
